{
  "nbformat": 4,
  "nbformat_minor": 0,
  "metadata": {
    "colab": {
      "name": "Boston_Housing.ipynb",
      "provenance": [],
      "collapsed_sections": [],
      "authorship_tag": "ABX9TyOK5cDX+zi5XmAb8TwSa7N+",
      "include_colab_link": true
    },
    "kernelspec": {
      "name": "python3",
      "display_name": "Python 3"
    },
    "accelerator": "TPU"
  },
  "cells": [
    {
      "cell_type": "markdown",
      "metadata": {
        "id": "view-in-github",
        "colab_type": "text"
      },
      "source": [
        "<a href=\"https://colab.research.google.com/github/takashinnosuke/study_Keras/blob/main/Boston_Housing.ipynb\" target=\"_parent\"><img src=\"https://colab.research.google.com/assets/colab-badge.svg\" alt=\"Open In Colab\"/></a>"
      ]
    },
    {
      "cell_type": "code",
      "metadata": {
        "id": "wdlkd3mGypXU",
        "colab": {
          "base_uri": "https://localhost:8080/"
        },
        "outputId": "e4b94911-d660-472e-9249-12c24fb91289"
      },
      "source": [
        "#Boston Housingデータセットの読み込み\n",
        "from keras.datasets import boston_housing\n",
        "\n",
        "(train_data, train_targets), (test_data, test_targets) = \\\n",
        "  boston_housing.load_data()"
      ],
      "execution_count": 1,
      "outputs": [
        {
          "output_type": "stream",
          "name": "stdout",
          "text": [
            "Downloading data from https://storage.googleapis.com/tensorflow/tf-keras-datasets/boston_housing.npz\n",
            "57344/57026 [==============================] - 0s 0us/step\n",
            "65536/57026 [==================================] - 0s 0us/step\n"
          ]
        }
      ]
    },
    {
      "cell_type": "code",
      "metadata": {
        "colab": {
          "base_uri": "https://localhost:8080/"
        },
        "id": "LZeNGqxuzGqt",
        "outputId": "4efd4bac-db6d-41cb-8364-dec94533045a"
      },
      "source": [
        "#どんなデータか見てみる\n",
        "train_data.shape"
      ],
      "execution_count": 2,
      "outputs": [
        {
          "output_type": "execute_result",
          "data": {
            "text/plain": [
              "(404, 13)"
            ]
          },
          "metadata": {},
          "execution_count": 2
        }
      ]
    },
    {
      "cell_type": "code",
      "metadata": {
        "colab": {
          "base_uri": "https://localhost:8080/"
        },
        "id": "5m-ga_LTzTzo",
        "outputId": "057d6c36-7f16-4097-ad3d-94f0096650aa"
      },
      "source": [
        "test_data.shape"
      ],
      "execution_count": 3,
      "outputs": [
        {
          "output_type": "execute_result",
          "data": {
            "text/plain": [
              "(102, 13)"
            ]
          },
          "metadata": {},
          "execution_count": 3
        }
      ]
    },
    {
      "cell_type": "code",
      "metadata": {
        "id": "sEDt8Obs06ix"
      },
      "source": [
        "#データの正規化\n",
        "mean = train_data.mean(axis=0)\n",
        "train_data -= mean\n",
        "std = train_data.std(axis=0)\n",
        "train_data /= std\n",
        "\n",
        "test_data -= mean\n",
        "test_data /= std"
      ],
      "execution_count": 4,
      "outputs": []
    },
    {
      "cell_type": "code",
      "metadata": {
        "id": "HCQra328MluE"
      },
      "source": [
        "#モデルの構築\n",
        "from keras import models\n",
        "from keras import layers\n",
        "\n",
        "def build_model():\n",
        "  model = models.Sequential()\n",
        "  model.add(layers.Dense(64, activation='relu', input_shape=(train_data.shape[1],)))\n",
        "\n",
        "  model.add(layers.Dense(64, activation='relu'))\n",
        "  model.add(layers.Dense(1))\n",
        "  model.compile(optimizer='rmsprop', loss = 'mse', metrics=['mae'])\n",
        "  return model"
      ],
      "execution_count": 5,
      "outputs": []
    },
    {
      "cell_type": "code",
      "metadata": {
        "colab": {
          "base_uri": "https://localhost:8080/"
        },
        "id": "L4fk38DYQqs4",
        "outputId": "ebc4dca2-4fe2-49b6-a111-85c0d9e16ad9"
      },
      "source": [
        "#k分割交差検証\n",
        "import numpy as np\n",
        "\n",
        "k = 4\n",
        "num_val_samples = len(train_data) // k\n",
        "num_epochs = 100\n",
        "all_scores = []\n",
        "for i in range(k):\n",
        "  print('processing fold #', i)\n",
        "\n",
        "  #検証データの準備:フォールドiのデータ\n",
        "  val_data = \\\n",
        "    train_data[i * num_val_samples: (i + 1) * num_val_samples]\n",
        "  val_targets = \\\n",
        "    train_targets[i * num_val_samples: (i + 1) * num_val_samples]  \n",
        "\n",
        "  #訓練データの準備：残りのフォールドのデータ\n",
        "  partial_train_data = np.concatenate(\n",
        "      [train_data[:i * num_val_samples],\n",
        "      train_data[(i + 1) * num_val_samples:]],\n",
        "      axis=0)\n",
        "  partial_train_targets = np.concatenate(\n",
        "      [train_targets[:i * num_val_samples],\n",
        "       train_targets[(i + 1) * num_val_samples:]],\n",
        "       axis=0)\n",
        "  \n",
        "#Kerasモデルを構築（コンパイル済み）\n",
        "model = build_model()\n",
        "\n",
        "#モデルをサイレントモード(verbose=0)で適合\n",
        "model.fit(partial_train_data, partial_train_targets, epochs=num_epochs, batch_size=1, verbose=0)\n",
        "\n",
        "#モデルを検証データで評価\n",
        "val_mse, val_mae = model.evaluate(val_data, val_targets, verbose=0)\n",
        "all_scores.append(val_mae)"
      ],
      "execution_count": 6,
      "outputs": [
        {
          "output_type": "stream",
          "name": "stdout",
          "text": [
            "processing fold # 0\n",
            "processing fold # 1\n",
            "processing fold # 2\n",
            "processing fold # 3\n"
          ]
        }
      ]
    },
    {
      "cell_type": "code",
      "metadata": {
        "colab": {
          "base_uri": "https://localhost:8080/"
        },
        "id": "c2MIfJITVbNs",
        "outputId": "089f6d45-17dd-4ea4-94b9-9eceedcece22"
      },
      "source": [
        "all_scores"
      ],
      "execution_count": 7,
      "outputs": [
        {
          "output_type": "execute_result",
          "data": {
            "text/plain": [
              "[2.2428417205810547]"
            ]
          },
          "metadata": {},
          "execution_count": 7
        }
      ]
    },
    {
      "cell_type": "code",
      "metadata": {
        "colab": {
          "base_uri": "https://localhost:8080/"
        },
        "id": "iI5h75DsVfT6",
        "outputId": "9bd80a05-b2ba-4fb7-816e-17c116aa9f9b"
      },
      "source": [
        "np.mean(all_scores)"
      ],
      "execution_count": 8,
      "outputs": [
        {
          "output_type": "execute_result",
          "data": {
            "text/plain": [
              "2.2428417205810547"
            ]
          },
          "metadata": {},
          "execution_count": 8
        }
      ]
    },
    {
      "cell_type": "code",
      "metadata": {
        "colab": {
          "base_uri": "https://localhost:8080/"
        },
        "id": "xUTcYOZwVjcS",
        "outputId": "52bccbe2-e770-41ae-e834-f2a5eff19010"
      },
      "source": [
        "#フォールドごとに検証ログを保存\n",
        "num_epochs = 500\n",
        "all_mae_histories = []\n",
        "for i in range(k):\n",
        "  print('processing fold #', i)\n",
        "\n",
        "  #検証データの準備:フォールドiのデータ\n",
        "  val_data = \\\n",
        "    train_data[i * num_val_samples: (i + 1) * num_val_samples]\n",
        "  val_targets = \\\n",
        "    train_targets[i * num_val_samples: (i + 1) * num_val_samples]  \n",
        "\n",
        "  #訓練データの準備：残りのフォールドのデータ\n",
        "  partial_train_data = np.concatenate(\n",
        "      [train_data[:i * num_val_samples],\n",
        "      train_data[(i + 1) * num_val_samples:]],\n",
        "      axis=0)\n",
        "  partial_train_targets = np.concatenate(\n",
        "      [train_targets[:i * num_val_samples],\n",
        "       train_targets[(i + 1) * num_val_samples:]],\n",
        "       axis=0)\n",
        "  \n",
        "#Kerasモデルを構築（コンパイル済み）\n",
        "model = build_model()\n",
        "\n",
        "#モデルをサイレントモード(verbose=0)で適合\n",
        "history = model.fit(partial_train_data, partial_train_targets, validation_data=(val_data, val_targets), epochs=num_epochs, batch_size=1, verbose=0)\n",
        "\n",
        "mae_history = history.history['val_mae']\n",
        "all_mae_histories.append(mae_history)"
      ],
      "execution_count": 10,
      "outputs": [
        {
          "output_type": "stream",
          "name": "stdout",
          "text": [
            "processing fold # 0\n",
            "processing fold # 1\n",
            "processing fold # 2\n",
            "processing fold # 3\n"
          ]
        }
      ]
    },
    {
      "cell_type": "code",
      "metadata": {
        "id": "KLADafjRW95U"
      },
      "source": [
        "#k分割交差検証の平均コストの履歴を構築\n",
        "average_mae_history = [np.mean([x[i] for x in all_mae_histories]) for i in range(num_epochs)]"
      ],
      "execution_count": 15,
      "outputs": []
    },
    {
      "cell_type": "code",
      "metadata": {
        "id": "8ixyyGj7XXCL",
        "colab": {
          "base_uri": "https://localhost:8080/",
          "height": 279
        },
        "outputId": "a1912b4b-f731-4c2c-92d9-8591aa07944c"
      },
      "source": [
        "#検証スコアのプロット\n",
        "import matplotlib.pyplot as plt\n",
        "\n",
        "plt.plot(range(1, len(average_mae_history) + 1), average_mae_history)\n",
        "plt.xlabel('Epochs')\n",
        "plt.ylabel('Validation MAE')\n",
        "plt.show()"
      ],
      "execution_count": 16,
      "outputs": [
        {
          "output_type": "display_data",
          "data": {
            "image/png": "[encoded data removed]",
            "text/plain": [
              "<Figure size 432x288 with 1 Axes>"
            ]
          },
          "metadata": {
            "needs_background": "light"
          }
        }
      ]
    },
    {
      "cell_type": "code",
      "metadata": {
        "colab": {
          "base_uri": "https://localhost:8080/",
          "height": 279
        },
        "id": "2YWy8Nq8tK0n",
        "outputId": "f4ca970a-2404-49d5-8d0f-cd4a27c41322"
      },
      "source": [
        "#最初の12個のデータ点を除外した検証スコアのプロット\n",
        "def smooth_curve(points, factor=0.9):\n",
        "  smoothed_points = []\n",
        "  for point in points:\n",
        "    if smoothed_points:\n",
        "      previous = smoothed_points[-1]\n",
        "      smoothed_points.append(previous * factor + point * (1 - factor))\n",
        "    else:\n",
        "      smoothed_points.append(point)\n",
        "  return smoothed_points\n",
        "\n",
        "smooth_mae_history = smooth_curve(average_mae_history[12:])\n",
        "\n",
        "plt.plot(range(1, len(smooth_mae_history) + 1), smooth_mae_history)\n",
        "plt.xlabel('Epochs')\n",
        "plt.ylabel('Validation MAE')\n",
        "plt.show()"
      ],
      "execution_count": 21,
      "outputs": [
        {
          "output_type": "display_data",
          "data": {
            "image/png": "[encoded data removed]",
            "text/plain": [
              "<Figure size 432x288 with 1 Axes>"
            ]
          },
          "metadata": {
            "needs_background": "light"
          }
        }
      ]
    },
    {
      "cell_type": "code",
      "metadata": {
        "colab": {
          "base_uri": "https://localhost:8080/"
        },
        "id": "WsXQg4ewxAEZ",
        "outputId": "89ad2e23-b573-483e-ec7a-546bbccc317e"
      },
      "source": [
        "#最終的なモデルの訓練\n",
        "model = build_model()\n",
        "\n",
        "model.fit(train_data, train_targets, epochs=200, batch_size=16, verbose=0)\n",
        "\n",
        "test_mse_score, test_mae_score = model.evaluate(test_data, test_targets)"
      ],
      "execution_count": 28,
      "outputs": [
        {
          "output_type": "stream",
          "name": "stdout",
          "text": [
            "4/4 [==============================] - 0s 3ms/step - loss: 12.1701 - mae: 2.3399\n"
          ]
        }
      ]
    },
    {
      "cell_type": "code",
      "metadata": {
        "colab": {
          "base_uri": "https://localhost:8080/"
        },
        "id": "mxuwcHqMu4lD",
        "outputId": "3b77df31-ab5d-4841-d42f-bfe0abd82bae"
      },
      "source": [
        "test_mae_score"
      ],
      "execution_count": 29,
      "outputs": [
        {
          "output_type": "execute_result",
          "data": {
            "text/plain": [
              "2.3398566246032715"
            ]
          },
          "metadata": {},
          "execution_count": 29
        }
      ]
    }
  ]
}