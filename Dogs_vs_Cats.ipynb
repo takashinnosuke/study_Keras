{
  "nbformat": 4,
  "nbformat_minor": 0,
  "metadata": {
    "accelerator": "TPU",
    "colab": {
      "name": "Dogs vs Cats.ipynb",
      "provenance": [],
      "collapsed_sections": [],
      "authorship_tag": "ABX9TyOcK+AuFrSdGPvJcQZKE0B4",
      "include_colab_link": true
    },
    "kernelspec": {
      "display_name": "Python 3",
      "name": "python3"
    }
  },
  "cells": [
    {
      "cell_type": "markdown",
      "metadata": {
        "id": "view-in-github",
        "colab_type": "text"
      },
      "source": [
        "<a href=\"https://colab.research.google.com/github/takashinnosuke/study_Keras/blob/main/Dogs_vs_Cats.ipynb\" target=\"_parent\"><img src=\"https://colab.research.google.com/assets/colab-badge.svg\" alt=\"Open In Colab\"/></a>"
      ]
    },
    {
      "cell_type": "code",
      "metadata": {
        "colab": {
          "base_uri": "https://localhost:8080/"
        },
        "id": "qhMmcIbcuoZg",
        "outputId": "3397420c-2d48-49eb-e383-1de4bd2b03e9"
      },
      "source": [
        "from google.colab import drive\n",
        "drive.mount('/content/gdrive')"
      ],
      "execution_count": null,
      "outputs": [
        {
          "name": "stdout",
          "output_type": "stream",
          "text": [
            "Drive already mounted at /content/gdrive; to attempt to forcibly remount, call drive.mount(\"/content/gdrive\", force_remount=True).\n"
          ]
        }
      ]
    },
    {
      "cell_type": "code",
      "metadata": {
        "colab": {
          "base_uri": "https://localhost:8080/",
          "height": 86
        },
        "id": "I6QRa5T0F8RZ",
        "outputId": "bafddd48-75dd-459f-e0f1-779664d5076c"
      },
      "source": [
        "#画像をtrain, vaildation, testディレクトリにコピー, データセットを学習用，検証用，テスト用に分割して利用するため\n",
        "import os, shutil\n",
        "\n",
        "original_dataset_dir = '/content/gdrive/My Drive/kaggle_original_data/train/train'\n",
        "\n",
        "base_dir = '/content/gdrive/My Drive/cats_and_dogs_small'\n",
        "\n",
        "#os.mkdir(base_dir)\n",
        "train_dir = os.path.join(base_dir, 'train')\n",
        "#os.mkdir(train_dir)\n",
        "validation_dir = os.path.join(base_dir, 'validation')\n",
        "#os.mkdir(validation_dir)\n",
        "test_dir = os.path.join(base_dir, 'test')\n",
        "#os.mkdir(test_dir)\n",
        "\n",
        "train_cats_dir = os.path.join(train_dir, 'cats')\n",
        "#os.mkdir(train_cats_dir)\n",
        "train_dogs_dir = os.path.join(train_dir, 'dogs')\n",
        "#os.mkdir(train_dogs_dir)\n",
        "\n",
        "validation_cats_dir = os.path.join(validation_dir, 'cats')\n",
        "#os.mkdir(validation_cats_dir)\n",
        "\n",
        "validation_dogs_dir = os.path.join(validation_dir, 'dogs')\n",
        "#os.mkdir(validation_dogs_dir)\n",
        "\n",
        "test_cats_dir = os.path.join(test_dir, 'cats')\n",
        "#os.mkdir(test_cats_dir)\n",
        "\n",
        "test_dogs_dir = os.path.join(test_dir, 'dogs')\n",
        "#os.mkdir(test_dogs_dir)\n",
        "'''\n",
        "fnames = ['cat.{}.jpg'.format(i) for i in range(1000)]\n",
        "for fname in fnames:\n",
        "  src = os.path.join(original_dataset_dir, fname)\n",
        "  dst = os.path.join(train_cats_dir, fname)\n",
        "  shutil.copyfile(src, dst)\n",
        "\n",
        "fnames = ['cat.{}.jpg'.format(i) for i in range(1000, 1500)]\n",
        "for fname in fnames:\n",
        "  src = os.path.join(original_dataset_dir, fname)\n",
        "  dst = os.path.join(validation_cats_dir, fname)\n",
        "  shutil.copyfile(src, dst)\n",
        "\n",
        "fnames = ['cat.{}.jpg'.format(i) for i in range(1500, 2000)]\n",
        "for fname in fnames:\n",
        "  src = os.path.join(original_dataset_dir, fname)\n",
        "  dst = os.path.join(test_cats_dir, fname)\n",
        "  shutil.copyfile(src, dst)\n",
        "\n",
        "fnames = ['dog.{}.jpg'.format(i) for i in range(1000)]\n",
        "for fname in fnames:\n",
        "  src = os.path.join(original_dataset_dir, fname)\n",
        "  dst = os.path.join(train_dogs_dir, fname)\n",
        "  shutil.copyfile(src, dst)\n",
        "\n",
        "fnames = ['dog.{}.jpg'.format(i) for i in range(1000, 1500)]\n",
        "for fname in fnames:\n",
        "  src = os.path.join(original_dataset_dir, fname)\n",
        "  dst = os.path.join(validation_dogs_dir, fname)\n",
        "  shutil.copyfile(src, dst)\n",
        "\n",
        "fnames = ['dog.{}.jpg'.format(i) for i in range(1500, 2000)]\n",
        "for fname in fnames:\n",
        "  src = os.path.join(original_dataset_dir, fname)\n",
        "  dst = os.path.join(test_dogs_dir, fname)\n",
        "  shutil.copyfile(src, dst)\n",
        "'''"
      ],
      "execution_count": null,
      "outputs": [
        {
          "data": {
            "application/vnd.google.colaboratory.intrinsic+json": {
              "type": "string"
            },
            "text/plain": [
              "\"\\nfnames = ['cat.{}.jpg'.format(i) for i in range(1000)]\\nfor fname in fnames:\\n  src = os.path.join(original_dataset_dir, fname)\\n  dst = os.path.join(train_cats_dir, fname)\\n  shutil.copyfile(src, dst)\\n\\nfnames = ['cat.{}.jpg'.format(i) for i in range(1000, 1500)]\\nfor fname in fnames:\\n  src = os.path.join(original_dataset_dir, fname)\\n  dst = os.path.join(validation_cats_dir, fname)\\n  shutil.copyfile(src, dst)\\n\\nfnames = ['cat.{}.jpg'.format(i) for i in range(1500, 2000)]\\nfor fname in fnames:\\n  src = os.path.join(original_dataset_dir, fname)\\n  dst = os.path.join(test_cats_dir, fname)\\n  shutil.copyfile(src, dst)\\n\\nfnames = ['dog.{}.jpg'.format(i) for i in range(1000)]\\nfor fname in fnames:\\n  src = os.path.join(original_dataset_dir, fname)\\n  dst = os.path.join(train_dogs_dir, fname)\\n  shutil.copyfile(src, dst)\\n\\nfnames = ['dog.{}.jpg'.format(i) for i in range(1000, 1500)]\\nfor fname in fnames:\\n  src = os.path.join(original_dataset_dir, fname)\\n  dst = os.path.join(validation_dogs_dir, fname)\\n  shutil.copyfile(src, dst)\\n\\nfnames = ['dog.{}.jpg'.format(i) for i in range(1500, 2000)]\\nfor fname in fnames:\\n  src = os.path.join(original_dataset_dir, fname)\\n  dst = os.path.join(test_dogs_dir, fname)\\n  shutil.copyfile(src, dst)\\n\""
            ]
          },
          "execution_count": 3,
          "metadata": {},
          "output_type": "execute_result"
        }
      ]
    },
    {
      "cell_type": "code",
      "metadata": {
        "colab": {
          "base_uri": "https://localhost:8080/"
        },
        "id": "VJvyjqODg0pw",
        "outputId": "36e2a73d-1f52-49eb-ac47-b3d4a26fb436"
      },
      "source": [
        "print('total training cat images:', len(os.listdir(train_cats_dir)))"
      ],
      "execution_count": null,
      "outputs": [
        {
          "name": "stdout",
          "output_type": "stream",
          "text": [
            "total training cat images: 1000\n"
          ]
        }
      ]
    },
    {
      "cell_type": "code",
      "metadata": {
        "colab": {
          "base_uri": "https://localhost:8080/"
        },
        "id": "v85UynOuiLWg",
        "outputId": "a78e6354-d8d2-483e-99c4-54846e11d412"
      },
      "source": [
        "print('total training dog images:', len(os.listdir(train_dogs_dir)))"
      ],
      "execution_count": null,
      "outputs": [
        {
          "name": "stdout",
          "output_type": "stream",
          "text": [
            "total training dog images: 1000\n"
          ]
        }
      ]
    },
    {
      "cell_type": "code",
      "metadata": {
        "colab": {
          "base_uri": "https://localhost:8080/"
        },
        "id": "YX6cdqcniSvW",
        "outputId": "554a539a-1086-4c78-a0f8-1846cc68c73c"
      },
      "source": [
        "print('total validation cat images:', len(os.listdir(validation_cats_dir)))"
      ],
      "execution_count": null,
      "outputs": [
        {
          "name": "stdout",
          "output_type": "stream",
          "text": [
            "total validation cat images: 500\n"
          ]
        }
      ]
    },
    {
      "cell_type": "code",
      "metadata": {
        "colab": {
          "base_uri": "https://localhost:8080/"
        },
        "id": "VkrXRCG5imyU",
        "outputId": "bd0d99da-ad44-4ed3-f14d-3bba517c0adf"
      },
      "source": [
        "print('total validation dog images:', len(os.listdir(validation_dogs_dir)))"
      ],
      "execution_count": null,
      "outputs": [
        {
          "name": "stdout",
          "output_type": "stream",
          "text": [
            "total validation dog images: 500\n"
          ]
        }
      ]
    },
    {
      "cell_type": "code",
      "metadata": {
        "colab": {
          "base_uri": "https://localhost:8080/"
        },
        "id": "pCaEYzXXiryF",
        "outputId": "1fb3df46-bab3-42dc-ace4-be8ddda47576"
      },
      "source": [
        "print('total test cat images:', len(os.listdir(test_cats_dir)))"
      ],
      "execution_count": null,
      "outputs": [
        {
          "name": "stdout",
          "output_type": "stream",
          "text": [
            "total test cat images: 500\n"
          ]
        }
      ]
    },
    {
      "cell_type": "code",
      "metadata": {
        "colab": {
          "base_uri": "https://localhost:8080/"
        },
        "id": "edz9-DCJiy4z",
        "outputId": "3e796d51-49e8-4e6c-d1e6-d78a606fa466"
      },
      "source": [
        "print('total test dog images:', len(os.listdir(test_dogs_dir)))"
      ],
      "execution_count": null,
      "outputs": [
        {
          "name": "stdout",
          "output_type": "stream",
          "text": [
            "total test dog images: 500\n"
          ]
        }
      ]
    },
    {
      "cell_type": "code",
      "metadata": {
        "id": "-e9QDxYTKpM-"
      },
      "source": [
        "#犬と猫を分類するための小さなCNNをインスタンス化, 特徴マップ，ネットワークの構築のため\n",
        "from keras import layers\n",
        "from keras import models\n",
        "\n",
        "model = models.Sequential()\n",
        "model.add(layers.Conv2D(32, (3, 3), activation='relu', input_shape=(150, 150, 3)))\n",
        "model.add(layers.MaxPooling2D((2, 2)))\n",
        "model.add(layers.Conv2D(64, (3, 3), activation='relu'))\n",
        "model.add(layers.MaxPooling2D((2, 2)))\n",
        "model.add(layers.Conv2D(128, (3, 3), activation='relu'))\n",
        "model.add(layers.MaxPooling2D((2, 2)))\n",
        "model.add(layers.Conv2D(128, (3, 3), activation='relu'))\n",
        "model.add(layers.MaxPooling2D((2, 2)))\n",
        "model.add(layers.Flatten())\n",
        "model.add(layers.Dense(512, activation='relu'))\n",
        "model.add(layers.Dense(1, activation='sigmoid'))"
      ],
      "execution_count": null,
      "outputs": []
    },
    {
      "cell_type": "code",
      "metadata": {
        "colab": {
          "base_uri": "https://localhost:8080/"
        },
        "id": "NlJiebvEI4qO",
        "outputId": "55cd5a2c-e1cc-4900-c75c-dd3531367d43"
      },
      "source": [
        "model.summary()"
      ],
      "execution_count": null,
      "outputs": [
        {
          "name": "stdout",
          "output_type": "stream",
          "text": [
            "Model: \"sequential\"\n",
            "_________________________________________________________________\n",
            "Layer (type)                 Output Shape              Param #   \n",
            "=================================================================\n",
            "conv2d (Conv2D)              (None, 148, 148, 32)      896       \n",
            "_________________________________________________________________\n",
            "max_pooling2d (MaxPooling2D) (None, 74, 74, 32)        0         \n",
            "_________________________________________________________________\n",
            "conv2d_1 (Conv2D)            (None, 72, 72, 64)        18496     \n",
            "_________________________________________________________________\n",
            "max_pooling2d_1 (MaxPooling2 (None, 36, 36, 64)        0         \n",
            "_________________________________________________________________\n",
            "conv2d_2 (Conv2D)            (None, 34, 34, 128)       73856     \n",
            "_________________________________________________________________\n",
            "max_pooling2d_2 (MaxPooling2 (None, 17, 17, 128)       0         \n",
            "_________________________________________________________________\n",
            "conv2d_3 (Conv2D)            (None, 15, 15, 128)       147584    \n",
            "_________________________________________________________________\n",
            "max_pooling2d_3 (MaxPooling2 (None, 7, 7, 128)         0         \n",
            "_________________________________________________________________\n",
            "flatten (Flatten)            (None, 6272)              0         \n",
            "_________________________________________________________________\n",
            "dense (Dense)                (None, 512)               3211776   \n",
            "_________________________________________________________________\n",
            "dense_1 (Dense)              (None, 1)                 513       \n",
            "=================================================================\n",
            "Total params: 3,453,121\n",
            "Trainable params: 3,453,121\n",
            "Non-trainable params: 0\n",
            "_________________________________________________________________\n"
          ]
        }
      ]
    },
    {
      "cell_type": "code",
      "metadata": {
        "colab": {
          "base_uri": "https://localhost:8080/"
        },
        "id": "aCgf18UmLozl",
        "outputId": "c7b29554-36a8-4bd1-a735-c1bb3f8e7c56"
      },
      "source": [
        "#モデルのコンパイル, 状態遷移が正しいか検証するため\n",
        "from tensorflow.keras import optimizers\n",
        "\n",
        "model.compile(loss='binary_crossentropy',\n",
        "              optimizer=optimizers.RMSprop(lr=1e-4),\n",
        "              metrics=['acc'])"
      ],
      "execution_count": null,
      "outputs": [
        {
          "name": "stderr",
          "output_type": "stream",
          "text": [
            "/usr/local/lib/python3.7/dist-packages/keras/optimizer_v2/optimizer_v2.py:356: UserWarning: The `lr` argument is deprecated, use `learning_rate` instead.\n",
            "  \"The `lr` argument is deprecated, use `learning_rate` instead.\")\n"
          ]
        }
      ]
    },
    {
      "cell_type": "code",
      "metadata": {
        "colab": {
          "base_uri": "https://localhost:8080/"
        },
        "id": "pJTbEwHWL8n4",
        "outputId": "308abf75-4ff2-4fbc-d354-2db0a162e43b"
      },
      "source": [
        "#ImageDateGeneratorを使ってディレクトリから画像を読み込む, CNNにデータを供給するため\n",
        "from keras.preprocessing.image import ImageDataGenerator\n",
        "\n",
        "train_datagen = ImageDataGenerator(rescale=1./255)\n",
        "test_datagen = ImageDataGenerator(rescale=1./255)\n",
        "\n",
        "train_generator = train_datagen.flow_from_directory(\n",
        "    train_dir,\n",
        "    target_size=(150, 150),\n",
        "    batch_size=20,\n",
        "    class_mode='binary')\n",
        "\n",
        "validation_generator = test_datagen.flow_from_directory(\n",
        "    validation_dir,\n",
        "    target_size=(150, 150),\n",
        "    batch_size=20,\n",
        "    class_mode='binary')"
      ],
      "execution_count": null,
      "outputs": [
        {
          "name": "stdout",
          "output_type": "stream",
          "text": [
            "Found 2000 images belonging to 2 classes.\n",
            "Found 1000 images belonging to 2 classes.\n"
          ]
        }
      ]
    },
    {
      "cell_type": "code",
      "metadata": {
        "colab": {
          "base_uri": "https://localhost:8080/"
        },
        "id": "xdDClp3vOFq5",
        "outputId": "cf76b7dd-36fe-41de-e410-fd3caaee5430"
      },
      "source": [
        "for data_batch, labels_batch in train_generator:\n",
        "  print('data batch shape:', data_batch.shape)\n",
        "  print('labels batch shape:', labels_batch.shape)\n",
        "  break"
      ],
      "execution_count": null,
      "outputs": [
        {
          "name": "stdout",
          "output_type": "stream",
          "text": [
            "data batch shape: (20, 150, 150, 3)\n",
            "labels batch shape: (20,)\n"
          ]
        }
      ]
    },
    {
      "cell_type": "code",
      "metadata": {
        "colab": {
          "background_save": true,
          "base_uri": "https://localhost:8080/"
        },
        "id": "_XWtDFg1M23i",
        "outputId": "6e2aab15-903d-4ff4-ebc2-2fd592d0ce94"
      },
      "source": [
        "#バッチジェネレータを使ってモデルを適合, 上記のジェネレータは評価用のバッチを無限に作るので，それを制限するためにいくつの評価用バッチを抽出するか指定するため\n",
        "history = model.fit_generator(train_generator,\n",
        "                              steps_per_epoch=100,\n",
        "                              epochs=30,\n",
        "                              validation_data=validation_generator,\n",
        "                              validation_steps=50)"
      ],
      "execution_count": null,
      "outputs": [
        {
          "name": "stderr",
          "output_type": "stream",
          "text": [
            "/usr/local/lib/python3.7/dist-packages/keras/engine/training.py:1972: UserWarning: `Model.fit_generator` is deprecated and will be removed in a future version. Please use `Model.fit`, which supports generators.\n",
            "  warnings.warn('`Model.fit_generator` is deprecated and '\n"
          ]
        },
        {
          "name": "stdout",
          "output_type": "stream",
          "text": [
            "Epoch 1/30\n",
            "100/100 [==============================] - 508s 5s/step - loss: 0.6812 - acc: 0.5525 - val_loss: 0.6576 - val_acc: 0.6170\n",
            "Epoch 2/30\n",
            "100/100 [==============================] - 110s 1s/step - loss: 0.6368 - acc: 0.6345 - val_loss: 0.6708 - val_acc: 0.5890\n",
            "Epoch 3/30\n",
            "100/100 [==============================] - 111s 1s/step - loss: 0.5903 - acc: 0.6820 - val_loss: 0.6037 - val_acc: 0.6660\n",
            "Epoch 4/30\n",
            "100/100 [==============================] - 113s 1s/step - loss: 0.5517 - acc: 0.7205 - val_loss: 0.5935 - val_acc: 0.6800\n",
            "Epoch 5/30\n",
            "100/100 [==============================] - 111s 1s/step - loss: 0.5261 - acc: 0.7335 - val_loss: 0.5792 - val_acc: 0.6890\n",
            "Epoch 6/30\n",
            "100/100 [==============================] - 111s 1s/step - loss: 0.5104 - acc: 0.7580 - val_loss: 0.5972 - val_acc: 0.6910\n",
            "Epoch 7/30\n",
            "100/100 [==============================] - 111s 1s/step - loss: 0.4768 - acc: 0.7780 - val_loss: 0.5688 - val_acc: 0.6930\n",
            "Epoch 8/30\n",
            "100/100 [==============================] - 111s 1s/step - loss: 0.4541 - acc: 0.7825 - val_loss: 0.5683 - val_acc: 0.7070\n",
            "Epoch 9/30\n",
            "100/100 [==============================] - 111s 1s/step - loss: 0.4371 - acc: 0.8005 - val_loss: 0.5763 - val_acc: 0.7120\n",
            "Epoch 10/30\n",
            "100/100 [==============================] - 112s 1s/step - loss: 0.3980 - acc: 0.8180 - val_loss: 0.6359 - val_acc: 0.6830\n",
            "Epoch 11/30\n",
            "100/100 [==============================] - 110s 1s/step - loss: 0.3803 - acc: 0.8315 - val_loss: 0.5663 - val_acc: 0.7300\n",
            "Epoch 12/30\n",
            "100/100 [==============================] - 110s 1s/step - loss: 0.3612 - acc: 0.8440 - val_loss: 0.5402 - val_acc: 0.7590\n",
            "Epoch 13/30\n",
            "100/100 [==============================] - 110s 1s/step - loss: 0.3327 - acc: 0.8505 - val_loss: 0.5484 - val_acc: 0.7420\n",
            "Epoch 14/30\n",
            "100/100 [==============================] - 110s 1s/step - loss: 0.3101 - acc: 0.8710 - val_loss: 0.5643 - val_acc: 0.7110\n",
            "Epoch 15/30\n",
            "100/100 [==============================] - 110s 1s/step - loss: 0.2896 - acc: 0.8815 - val_loss: 0.6216 - val_acc: 0.7210\n",
            "Epoch 16/30\n",
            "100/100 [==============================] - 110s 1s/step - loss: 0.2641 - acc: 0.8950 - val_loss: 0.7644 - val_acc: 0.6880\n",
            "Epoch 17/30\n",
            "100/100 [==============================] - 111s 1s/step - loss: 0.2527 - acc: 0.9015 - val_loss: 0.7359 - val_acc: 0.7000\n",
            "Epoch 18/30\n",
            "100/100 [==============================] - 111s 1s/step - loss: 0.2204 - acc: 0.9110 - val_loss: 0.5737 - val_acc: 0.7510\n",
            "Epoch 19/30\n",
            "100/100 [==============================] - 110s 1s/step - loss: 0.2086 - acc: 0.9230 - val_loss: 0.6648 - val_acc: 0.7180\n",
            "Epoch 20/30\n",
            "100/100 [==============================] - 111s 1s/step - loss: 0.1910 - acc: 0.9285 - val_loss: 0.6653 - val_acc: 0.7410\n",
            "Epoch 21/30\n",
            "100/100 [==============================] - 111s 1s/step - loss: 0.1838 - acc: 0.9310 - val_loss: 0.6111 - val_acc: 0.7430\n",
            "Epoch 22/30\n",
            "100/100 [==============================] - 110s 1s/step - loss: 0.1538 - acc: 0.9535 - val_loss: 0.7731 - val_acc: 0.7150\n",
            "Epoch 23/30\n",
            "100/100 [==============================] - 111s 1s/step - loss: 0.1417 - acc: 0.9560 - val_loss: 0.6665 - val_acc: 0.7380\n",
            "Epoch 24/30\n",
            "100/100 [==============================] - 111s 1s/step - loss: 0.1302 - acc: 0.9600 - val_loss: 0.6726 - val_acc: 0.7410\n",
            "Epoch 25/30\n",
            "100/100 [==============================] - 112s 1s/step - loss: 0.1091 - acc: 0.9665 - val_loss: 0.7234 - val_acc: 0.7390\n",
            "Epoch 26/30\n",
            "100/100 [==============================] - 111s 1s/step - loss: 0.0989 - acc: 0.9705 - val_loss: 0.7942 - val_acc: 0.7470\n",
            "Epoch 27/30\n",
            "100/100 [==============================] - 111s 1s/step - loss: 0.0883 - acc: 0.9735 - val_loss: 0.7445 - val_acc: 0.7400\n",
            "Epoch 28/30\n",
            "100/100 [==============================] - 111s 1s/step - loss: 0.0788 - acc: 0.9780 - val_loss: 0.7544 - val_acc: 0.7520\n",
            "Epoch 29/30\n",
            "100/100 [==============================] - 110s 1s/step - loss: 0.0666 - acc: 0.9800 - val_loss: 0.7924 - val_acc: 0.7580\n",
            "Epoch 30/30\n",
            "100/100 [==============================] - 110s 1s/step - loss: 0.0537 - acc: 0.9875 - val_loss: 0.8399 - val_acc: 0.7440\n"
          ]
        }
      ]
    },
    {
      "cell_type": "code",
      "metadata": {
        "colab": {
          "base_uri": "https://localhost:8080/",
          "height": 181
        },
        "id": "8mHpiCHqPeGs",
        "outputId": "44b4fb2a-7e84-4583-cb66-a0e6ac4e1a22"
      },
      "source": [
        "#モデルを保存，訓練の後は常にモデルを保存したほうがいいから\n",
        "model.save('cats_and_dogs_small_1.h5')"
      ],
      "execution_count": 3,
      "outputs": [
        {
          "output_type": "error",
          "ename": "NameError",
          "evalue": "ignored",
          "traceback": [
            "\u001b[0;31m---------------------------------------------------------------------------\u001b[0m",
            "\u001b[0;31mNameError\u001b[0m                                 Traceback (most recent call last)",
            "\u001b[0;32m<ipython-input-3-ed64876ae9db>\u001b[0m in \u001b[0;36m<module>\u001b[0;34m()\u001b[0m\n\u001b[1;32m      1\u001b[0m \u001b[0;31m#モデルを保存，訓練の後は常にモデルを保存したほうがいいから\u001b[0m\u001b[0;34m\u001b[0m\u001b[0;34m\u001b[0m\u001b[0;34m\u001b[0m\u001b[0m\n\u001b[0;32m----> 2\u001b[0;31m \u001b[0mmodel\u001b[0m\u001b[0;34m.\u001b[0m\u001b[0msave\u001b[0m\u001b[0;34m(\u001b[0m\u001b[0;34m'cats_and_dogs_small_1.h5'\u001b[0m\u001b[0;34m)\u001b[0m\u001b[0;34m\u001b[0m\u001b[0;34m\u001b[0m\u001b[0m\n\u001b[0m",
            "\u001b[0;31mNameError\u001b[0m: name 'model' is not defined"
          ]
        }
      ]
    },
    {
      "cell_type": "code",
      "metadata": {
        "colab": {
          "background_save": true
        },
        "id": "yFY4w-OPQUMq"
      },
      "source": [
        "#訓練時の損失値と正解率をプロット, モデルの性能を可視化するため\n",
        "import matplotlib.pyplot as plt\n",
        "\n",
        "acc = history.history['acc']\n",
        "val_acc = history.history['val_acc']\n",
        "loss = history.history['loss']\n",
        "val_loss = history.history['val_loss']\n",
        "\n",
        "epochs = range(1, len(acc) + 1)\n",
        "\n",
        "plt.plot(epochs, acc, 'bo', label='Training acc')\n",
        "plt.plot(epochs, val_acc, 'b', label='Validation acc')\n",
        "plt.title('Training and validation accuracy')\n",
        "plt.legend()\n",
        "\n",
        "plt.figure()\n",
        "\n",
        "plt.plot(epochs, loss, 'bo', label='Training loss')\n",
        "plt.plot(epochs, val_loss, 'b', label='Validation loss')\n",
        "plt.title('Training and validation loss')\n",
        "plt.legend()\n",
        "\n",
        "plt.show()"
      ],
      "execution_count": null,
      "outputs": []
    },
    {
      "cell_type": "code",
      "metadata": {
        "colab": {
          "background_save": true
        },
        "id": "Tr6DWMlMRydf"
      },
      "source": [
        "#ImageDataGeneratorを通じてデータ拡張を設定する，過学習を抑制するため\n",
        "datagen = ImageDataGenerator(rotation_range=40,\n",
        "                             width_shift_range=0.2,\n",
        "                             height_shift_range=0.2,\n",
        "                             shear_range=0.2,\n",
        "                             zoom_range=0.2,\n",
        "                             horizontal_flip=True,\n",
        "                             fill_mode='nearest')"
      ],
      "execution_count": null,
      "outputs": []
    },
    {
      "cell_type": "code",
      "metadata": {
        "colab": {
          "background_save": true
        },
        "id": "78Oodth6fiDZ"
      },
      "source": [
        "#ランダムに水増しされた訓練画像の表示, 訓練データを増やしてモデルの性能を上げるため\n",
        "from keras.preprocessing import image\n",
        "\n",
        "fnames = [os.path.join(train_cats_dir, fname)\n",
        "         for fname in os.listdir(train_cats_dir)]\n",
        "\n",
        "img_path = fnames[3]\n",
        "\n",
        "img = image.load_img(img_path, target_size=(150, 150))\n",
        "\n",
        "x = image.img_to_array(img)\n",
        "\n",
        "x = x.reshape((1,) + x.shape)\n",
        "\n",
        "i = 0\n",
        "for batch in datagen.flow(image.array_to_img(batch[0]))\n",
        "i += 1\n",
        "if i % 4 == 0:\n",
        "  break\n",
        "\n",
        "plt.show()"
      ],
      "execution_count": null,
      "outputs": []
    },
    {
      "cell_type": "code",
      "metadata": {
        "colab": {
          "background_save": true
        },
        "id": "6NIYXye7APLT"
      },
      "source": [
        "#ドロップアウトが追加された新しいCNNを定義,過学習をより抑制するため\n",
        "model = models.Sequential()\n",
        "model.add(layers.Conv2D(32, (3, 3), activation='relu',\n",
        "                        input_shape=(150, 150, 3)))\n",
        "model.add(layers.MaxPooling2D((2, 2)))\n",
        "model.add(layers.Conv2D(64, (3, 3), activation='relu'))\n",
        "model.add(layers.MaxPooling2D((2, 2)))\n",
        "model.add(layers.Conv2D(64, (3, 3), activation='relu'))\n",
        "model.add(layers.MaxPooling2D((2, 2)))\n",
        "model.add(layers.Conv2D(64, (3, 3), activation='relu'))\n",
        "model.add(layers.MaxPooling2D((2, 2)))\n",
        "model.add(layers.Flatten())\n",
        "model.add(layers.Dropout(0.5))\n",
        "model.add(layers.Dense(512, activation='relu'))\n",
        "model.add(layers.Dense(1, activation='sigmoid'))\n",
        "\n",
        "model.compile(loss='binary_crossentropy',\n",
        "              optimizer=optimizers.RMSprop(lr=1e-4),\n",
        "              metrics=['acc'])"
      ],
      "execution_count": null,
      "outputs": []
    },
    {
      "cell_type": "code",
      "metadata": {
        "colab": {
          "background_save": true
        },
        "id": "WYSZz0BrBNCH"
      },
      "source": [
        "#データ拡張ジェネレータを使ってCNNを構築, データ拡張とドロップアウトを使ってCNNを訓練するため\n",
        "train_datagen = ImageDataGenerator(\n",
        "    rescale=1./255,\n",
        "    rotation_range=40,\n",
        "    width_shift_range=0.2,\n",
        "    heigth_shift_range=0.2,\n",
        "    shear_range=0.2,\n",
        "    zoom_range=0.2,\n",
        "    horizontal_flip=True,)\n",
        "\n",
        "test_datagen = ImageDataGenerator(rescale=1./255)\n",
        "\n",
        "train_generator = train_datagen.flow_from_directory(\n",
        "    train_dir,\n",
        "    target_size=(150, 150),\n",
        "    batch_size=32,\n",
        "    class_mode='binary')\n",
        "\n",
        "history = model.fit_generator(\n",
        "    train_generator,\n",
        "    steps_per_epoch=100,\n",
        "    epochs=100,\n",
        "    validation_data=validation_generator,\n",
        "    validation_steps=50)"
      ],
      "execution_count": null,
      "outputs": []
    },
    {
      "cell_type": "code",
      "metadata": {
        "colab": {
          "background_save": true
        },
        "id": "bcdK8DufDgSM"
      },
      "source": [
        "#モデルを保存\n",
        "model.save('cats_and_dogs_small_2.h5')"
      ],
      "execution_count": null,
      "outputs": []
    }
  ]
}