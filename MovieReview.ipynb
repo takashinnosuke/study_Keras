{
  "nbformat": 4,
  "nbformat_minor": 0,
  "metadata": {
    "colab": {
      "name": "MovieReview.ipynb",
      "provenance": [],
      "collapsed_sections": [],
      "authorship_tag": "ABX9TyMpKbs+NZvYFlqCH+2+px/m",
      "include_colab_link": true
    },
    "kernelspec": {
      "name": "python3",
      "display_name": "Python 3"
    }
  },
  "cells": [
    {
      "cell_type": "markdown",
      "metadata": {
        "id": "view-in-github",
        "colab_type": "text"
      },
      "source": [
        "<a href=\"https://colab.research.google.com/github/takashinnosuke/study_Keras/blob/main/MovieReview.ipynb\" target=\"_parent\"><img src=\"https://colab.research.google.com/assets/colab-badge.svg\" alt=\"Open In Colab\"/></a>"
      ]
    },
    {
      "cell_type": "markdown",
      "metadata": {
        "id": "3ucRCFs5Aj2g"
      },
      "source": [
        "IMDbデータセットの読み込み"
      ]
    },
    {
      "cell_type": "code",
      "metadata": {
        "colab": {
          "base_uri": "https://localhost:8080/"
        },
        "id": "hhS_70LsARg7",
        "outputId": "64016174-c0f2-4e98-96d6-4c528ac0598b"
      },
      "source": [
        "from keras.datasets import imdb\n",
        "\n",
        "(train_data, train_labels), (test_data, test_labels) = \\\n",
        "  imdb.load_data(num_words=10000)"
      ],
      "execution_count": 1,
      "outputs": [
        {
          "output_type": "stream",
          "name": "stdout",
          "text": [
            "Downloading data from https://storage.googleapis.com/tensorflow/tf-keras-datasets/imdb.npz\n",
            "17465344/17464789 [==============================] - 0s 0us/step\n",
            "17473536/17464789 [==============================] - 0s 0us/step\n"
          ]
        }
      ]
    },
    {
      "cell_type": "markdown",
      "metadata": {
        "id": "fMgM6rQiDLm0"
      },
      "source": [
        "※一つのレビューを英語の単語にデコードしてみる"
      ]
    },
    {
      "cell_type": "code",
      "metadata": {
        "colab": {
          "base_uri": "https://localhost:8080/",
          "height": 137
        },
        "id": "Q81YiMO4BeRh",
        "outputId": "4e6302be-3008-4fd5-f15c-0692cfac721a"
      },
      "source": [
        "word_index = imdb.get_word_index()\n",
        "reverse_word_index = dict([value, key] for (key, value) in word_index.items())\n",
        "\n",
        "decoded_review = ' '.join([reverse_word_index.get(i - 3, '?') for i in train_data[0]])\n",
        "\n",
        "decoded_review"
      ],
      "execution_count": 2,
      "outputs": [
        {
          "output_type": "stream",
          "name": "stdout",
          "text": [
            "Downloading data from https://storage.googleapis.com/tensorflow/tf-keras-datasets/imdb_word_index.json\n",
            "1646592/1641221 [==============================] - 0s 0us/step\n",
            "1654784/1641221 [==============================] - 0s 0us/step\n"
          ]
        },
        {
          "output_type": "execute_result",
          "data": {
            "application/vnd.google.colaboratory.intrinsic+json": {
              "type": "string"
            },
            "text/plain": [
              "\"? this film was just brilliant casting location scenery story direction everyone's really suited the part they played and you could just imagine being there robert ? is an amazing actor and now the same being director ? father came from the same scottish island as myself so i loved the fact there was a real connection with this film the witty remarks throughout the film were great it was just brilliant so much that i bought the film as soon as it was released for ? and would recommend it to everyone to watch and the fly fishing was amazing really cried at the end it was so sad and you know what they say if you cry at a film it must have been good and this definitely was also ? to the two little boy's that played the ? of norman and paul they were just brilliant children are often left out of the ? list i think because the stars that play them all grown up are such a big profile for the whole film but these children are amazing and should be praised for what they have done don't you think the whole story was so lovely because it was true and was someone's life after all that was shared with us all\""
            ]
          },
          "metadata": {},
          "execution_count": 2
        }
      ]
    },
    {
      "cell_type": "markdown",
      "metadata": {
        "id": "JqeEjLEZUMPL"
      },
      "source": [
        "整数のシーケンスを二値行列に変換"
      ]
    },
    {
      "cell_type": "code",
      "metadata": {
        "id": "KaXCAOHtT58r"
      },
      "source": [
        "import numpy as np\n",
        "\n",
        "def vectorize_sequences(sequences, dimension=10000):\n",
        "\n",
        "  #形状が(len(sequences), dimension)の行列を作成し，0で埋める\n",
        "  results = np.zeros((len(sequences), dimension))\n",
        "\n",
        "  for i, sequence in enumerate(sequences):\n",
        "    results[i, sequence] = 1. #result[i]のインデックスを1に設定\n",
        "  return results\n",
        "\n",
        "#訓練データのベクトル化\n",
        "x_train = vectorize_sequences(train_data)\n",
        "#テストデータのベクトル化\n",
        "x_test = vectorize_sequences(test_data)"
      ],
      "execution_count": 3,
      "outputs": []
    },
    {
      "cell_type": "code",
      "metadata": {
        "id": "maG1H_OjV6jz"
      },
      "source": [
        "y_train = np.asarray(train_labels).astype('float32')\n",
        "y_test = np.asarray(test_labels).astype('float32')"
      ],
      "execution_count": 4,
      "outputs": []
    },
    {
      "cell_type": "markdown",
      "metadata": {
        "id": "Pv5Lkiuqa_Fn"
      },
      "source": [
        "モデルの定義"
      ]
    },
    {
      "cell_type": "code",
      "metadata": {
        "id": "9f29bVK8WTCr"
      },
      "source": [
        "from keras import models\n",
        "from keras import layers\n",
        "\n",
        "model = models.Sequential()\n",
        "model.add(layers.Dense(16, activation='relu', input_shape=(10000,)))\n",
        "model.add(layers.Dense(16, activation='relu'))\n",
        "model.add(layers.Dense(1, activation='sigmoid'))"
      ],
      "execution_count": 5,
      "outputs": []
    },
    {
      "cell_type": "markdown",
      "metadata": {
        "id": "eNZKVpGmc_8D"
      },
      "source": [
        "モデルのコンパイル"
      ]
    },
    {
      "cell_type": "code",
      "metadata": {
        "id": "9cxUVoEldDOI"
      },
      "source": [
        "model.compile(optimizer='rmsprop', loss='binary_crossentropy', metrics=['accuracy'])"
      ],
      "execution_count": 6,
      "outputs": []
    },
    {
      "cell_type": "markdown",
      "metadata": {
        "id": "xQjxbjbXxslk"
      },
      "source": [
        "訓練データセットの設定"
      ]
    },
    {
      "cell_type": "code",
      "metadata": {
        "id": "6EoIID_pxvuJ"
      },
      "source": [
        "x_val = x_train[:10000]\n",
        "partial_x_train = x_train[10000:]\n",
        "\n",
        "y_val = y_train[:10000]\n",
        "partial_y_train = y_train[10000:]"
      ],
      "execution_count": 9,
      "outputs": []
    },
    {
      "cell_type": "markdown",
      "metadata": {
        "id": "Wh27hZg7z2Nf"
      },
      "source": [
        "モデルの訓練"
      ]
    },
    {
      "cell_type": "code",
      "metadata": {
        "colab": {
          "base_uri": "https://localhost:8080/"
        },
        "id": "GrfCeJlkz0qe",
        "outputId": "777d1ded-7cce-4922-d28b-ea1ad763a3bc"
      },
      "source": [
        "model.compile(optimizer='rmsprop', loss='binary_crossentropy', metrics=['acc'])\n",
        "\n",
        "history = model.fit(partial_x_train, partial_y_train, epochs=20, batch_size=512, validation_data=(x_val, y_val))"
      ],
      "execution_count": 10,
      "outputs": [
        {
          "output_type": "stream",
          "name": "stdout",
          "text": [
            "Epoch 1/20\n",
            "30/30 [==============================] - 3s 55ms/step - loss: 0.5176 - acc: 0.7831 - val_loss: 0.4059 - val_acc: 0.8489\n",
            "Epoch 2/20\n",
            "30/30 [==============================] - 1s 38ms/step - loss: 0.3085 - acc: 0.9017 - val_loss: 0.3418 - val_acc: 0.8613\n",
            "Epoch 3/20\n",
            "30/30 [==============================] - 1s 39ms/step - loss: 0.2211 - acc: 0.9253 - val_loss: 0.2832 - val_acc: 0.8859\n",
            "Epoch 4/20\n",
            "30/30 [==============================] - 1s 38ms/step - loss: 0.1742 - acc: 0.9424 - val_loss: 0.2741 - val_acc: 0.8892\n",
            "Epoch 5/20\n",
            "30/30 [==============================] - 1s 41ms/step - loss: 0.1403 - acc: 0.9553 - val_loss: 0.2838 - val_acc: 0.8875\n",
            "Epoch 6/20\n",
            "30/30 [==============================] - 1s 37ms/step - loss: 0.1142 - acc: 0.9641 - val_loss: 0.2966 - val_acc: 0.8844\n",
            "Epoch 7/20\n",
            "30/30 [==============================] - 1s 37ms/step - loss: 0.0970 - acc: 0.9707 - val_loss: 0.3143 - val_acc: 0.8834\n",
            "Epoch 8/20\n",
            "30/30 [==============================] - 1s 37ms/step - loss: 0.0780 - acc: 0.9780 - val_loss: 0.3381 - val_acc: 0.8842\n",
            "Epoch 9/20\n",
            "30/30 [==============================] - 1s 37ms/step - loss: 0.0646 - acc: 0.9824 - val_loss: 0.3612 - val_acc: 0.8803\n",
            "Epoch 10/20\n",
            "30/30 [==============================] - 1s 38ms/step - loss: 0.0531 - acc: 0.9871 - val_loss: 0.4087 - val_acc: 0.8778\n",
            "Epoch 11/20\n",
            "30/30 [==============================] - 1s 37ms/step - loss: 0.0431 - acc: 0.9882 - val_loss: 0.4207 - val_acc: 0.8741\n",
            "Epoch 12/20\n",
            "30/30 [==============================] - 1s 37ms/step - loss: 0.0360 - acc: 0.9917 - val_loss: 0.4537 - val_acc: 0.8751\n",
            "Epoch 13/20\n",
            "30/30 [==============================] - 1s 37ms/step - loss: 0.0284 - acc: 0.9935 - val_loss: 0.4827 - val_acc: 0.8728\n",
            "Epoch 14/20\n",
            "30/30 [==============================] - 1s 39ms/step - loss: 0.0212 - acc: 0.9972 - val_loss: 0.5258 - val_acc: 0.8724\n",
            "Epoch 15/20\n",
            "30/30 [==============================] - 1s 39ms/step - loss: 0.0180 - acc: 0.9973 - val_loss: 0.5540 - val_acc: 0.8688\n",
            "Epoch 16/20\n",
            "30/30 [==============================] - 1s 38ms/step - loss: 0.0158 - acc: 0.9970 - val_loss: 0.5847 - val_acc: 0.8690\n",
            "Epoch 17/20\n",
            "30/30 [==============================] - 1s 37ms/step - loss: 0.0128 - acc: 0.9981 - val_loss: 0.6173 - val_acc: 0.8684\n",
            "Epoch 18/20\n",
            "30/30 [==============================] - 1s 39ms/step - loss: 0.0098 - acc: 0.9983 - val_loss: 0.6486 - val_acc: 0.8657\n",
            "Epoch 19/20\n",
            "30/30 [==============================] - 1s 37ms/step - loss: 0.0058 - acc: 0.9998 - val_loss: 0.6893 - val_acc: 0.8668\n",
            "Epoch 20/20\n",
            "30/30 [==============================] - 1s 40ms/step - loss: 0.0075 - acc: 0.9986 - val_loss: 0.7217 - val_acc: 0.8638\n"
          ]
        }
      ]
    }
  ]
}