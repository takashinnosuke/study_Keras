{
  "nbformat": 4,
  "nbformat_minor": 0,
  "metadata": {
    "colab": {
      "name": "mnist.ipynb",
      "provenance": [],
      "collapsed_sections": [],
      "authorship_tag": "ABX9TyMhNO5UnLVe9QqnlgX0ky7I",
      "include_colab_link": true
    },
    "kernelspec": {
      "name": "python3",
      "display_name": "Python 3"
    }
  },
  "cells": [
    {
      "cell_type": "markdown",
      "metadata": {
        "id": "view-in-github",
        "colab_type": "text"
      },
      "source": [
        "<a href=\"https://colab.research.google.com/github/takashinnosuke/study_Keras/blob/main/mnist.ipynb\" target=\"_parent\"><img src=\"https://colab.research.google.com/assets/colab-badge.svg\" alt=\"Open In Colab\"/></a>"
      ]
    },
    {
      "cell_type": "markdown",
      "metadata": {
        "id": "IELXXAK9zTfy"
      },
      "source": [
        "KerasでのMNISTデータセットの読み込み"
      ]
    },
    {
      "cell_type": "code",
      "metadata": {
        "id": "hM1Sje9IzNrb"
      },
      "source": [
        "from keras.datasets import mnist\n",
        "(train_images, train_labels), (test_images, test_labels) = mnist.load_data()"
      ],
      "execution_count": 10,
      "outputs": []
    },
    {
      "cell_type": "markdown",
      "metadata": {
        "id": "FL3Utuv-0LRZ"
      },
      "source": [
        "ニューラルネットワークのアーキテクチャ"
      ]
    },
    {
      "cell_type": "code",
      "metadata": {
        "id": "y9mfL8_SztvO"
      },
      "source": [
        "from keras import models\n",
        "from keras import layers\n",
        "\n",
        "network = models.Sequential()\n",
        "network.add(layers.Dense(512, activation='relu', input_shape=(28 * 28,)))\n",
        "network.add(layers.Dense(10, activation='softmax'))"
      ],
      "execution_count": 11,
      "outputs": []
    },
    {
      "cell_type": "markdown",
      "metadata": {
        "id": "kksMkaKC5Ir_"
      },
      "source": [
        "コンパイルステップ"
      ]
    },
    {
      "cell_type": "code",
      "metadata": {
        "id": "8ljZdlfZ5L6f"
      },
      "source": [
        "network.compile(optimizer = 'rmsprop',\n",
        "                loss = 'categorical_crossentropy',\n",
        "                metrics = ['accuracy'])"
      ],
      "execution_count": 12,
      "outputs": []
    },
    {
      "cell_type": "markdown",
      "metadata": {
        "id": "tnBmcbJ25djU"
      },
      "source": [
        "画像データの準備"
      ]
    },
    {
      "cell_type": "code",
      "metadata": {
        "id": "Zk7OhCJS5gAe"
      },
      "source": [
        "train_images = train_images.reshape((60000, 28 * 28))\n",
        "train_images = train_images.astype('float32') / 255\n",
        "\n",
        "test_images = test_images.reshape((10000, 28 * 28))\n",
        "test_images = test_images.astype('float32') / 255"
      ],
      "execution_count": 13,
      "outputs": []
    },
    {
      "cell_type": "markdown",
      "metadata": {
        "id": "GpW_h7BH7Bc2"
      },
      "source": [
        "ラベルの準備"
      ]
    },
    {
      "cell_type": "code",
      "metadata": {
        "id": "jzx_DhRm7FJG"
      },
      "source": [
        "from tensorflow.keras.utils import to_categorical\n",
        "\n",
        "train_labels = to_categorical(train_labels)\n",
        "test_labels = to_categorical(test_labels)"
      ],
      "execution_count": 15,
      "outputs": []
    },
    {
      "cell_type": "markdown",
      "metadata": {
        "id": "tuQqPtjP8ySO"
      },
      "source": [
        "訓練データの適合"
      ]
    },
    {
      "cell_type": "code",
      "metadata": {
        "id": "YoffS0yy8Hqk"
      },
      "source": [
        "network.fit(train_images, train_labels, epochs=5, batch_size=128)"
      ],
      "execution_count": null,
      "outputs": []
    },
    {
      "cell_type": "markdown",
      "metadata": {
        "id": "x-rKl2Dt8s_k"
      },
      "source": [
        "テストデータの適合"
      ]
    },
    {
      "cell_type": "code",
      "metadata": {
        "colab": {
          "base_uri": "https://localhost:8080/"
        },
        "id": "xpIZuzCI8dJX",
        "outputId": "9f086c64-da08-4e8c-f85f-d51c04a89508"
      },
      "source": [
        "test_loss, test_acc = network.evaluate(test_images, test_labels)\n",
        "print('test_acc:', test_acc)"
      ],
      "execution_count": 17,
      "outputs": [
        {
          "output_type": "stream",
          "name": "stdout",
          "text": [
            "313/313 [==============================] - 1s 2ms/step - loss: 0.0728 - accuracy: 0.9780\n",
            "test_acc: 0.9779999852180481\n"
          ]
        }
      ]
    }
  ]
}