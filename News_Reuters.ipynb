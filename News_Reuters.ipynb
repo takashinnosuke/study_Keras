{
  "nbformat": 4,
  "nbformat_minor": 0,
  "metadata": {
    "colab": {
      "name": "News_Reuters.ipynb",
      "provenance": [],
      "collapsed_sections": [],
      "authorship_tag": "ABX9TyO9DeU/39xByOmsASU8mKET",
      "include_colab_link": true
    },
    "kernelspec": {
      "name": "python3",
      "display_name": "Python 3"
    },
    "language_info": {
      "name": "python"
    }
  },
  "cells": [
    {
      "cell_type": "markdown",
      "metadata": {
        "id": "view-in-github",
        "colab_type": "text"
      },
      "source": [
        "<a href=\"https://colab.research.google.com/github/takashinnosuke/study_Keras/blob/main/News_Reuters.ipynb\" target=\"_parent\"><img src=\"https://colab.research.google.com/assets/colab-badge.svg\" alt=\"Open In Colab\"/></a>"
      ]
    },
    {
      "cell_type": "code",
      "metadata": {
        "colab": {
          "base_uri": "https://localhost:8080/"
        },
        "id": "U7-C6o-jDwud",
        "outputId": "a7a9ca35-efdf-4ea4-ac22-0d0937db4643"
      },
      "source": [
        "from keras.datasets import reuters\n",
        "\n",
        "(train_data, train_labels), (test_data, test_labels) = \\\n",
        "  reuters.load_data(num_words=10000)"
      ],
      "execution_count": 1,
      "outputs": [
        {
          "output_type": "stream",
          "name": "stdout",
          "text": [
            "Downloading data from https://storage.googleapis.com/tensorflow/tf-keras-datasets/reuters.npz\n",
            "2113536/2110848 [==============================] - 0s 0us/step\n",
            "2121728/2110848 [==============================] - 0s 0us/step\n"
          ]
        }
      ]
    },
    {
      "cell_type": "markdown",
      "metadata": {
        "id": "O1gmlFs8FMV5"
      },
      "source": [
        "ニュースサンプルをテキストに変換する"
      ]
    },
    {
      "cell_type": "code",
      "metadata": {
        "colab": {
          "base_uri": "https://localhost:8080/",
          "height": 52
        },
        "id": "vbd3U3AhFQp6",
        "outputId": "ccad4b00-6f8f-4e81-b7a3-2c6774be48f3"
      },
      "source": [
        "word_index = reuters.get_word_index()\n",
        "reverse_word_index = \\\n",
        "  dict([(value, key) for (key, value) in word_index.items()])\n",
        "\n",
        "decoded_newswire = ' '.join(\n",
        "    [reverse_word_index.get(i - 3, '?') for i in train_data[0]]\n",
        ")\n",
        "\n",
        "decoded_newswire"
      ],
      "execution_count": 7,
      "outputs": [
        {
          "output_type": "execute_result",
          "data": {
            "application/vnd.google.colaboratory.intrinsic+json": {
              "type": "string"
            },
            "text/plain": [
              "'? ? ? said as a result of its december acquisition of space co it expects earnings per share in 1987 of 1 15 to 1 30 dlrs per share up from 70 cts in 1986 the company said pretax net should rise to nine to 10 mln dlrs from six mln dlrs in 1986 and rental operation revenues to 19 to 22 mln dlrs from 12 5 mln dlrs it said cash flow per share this year should be 2 50 to three dlrs reuter 3'"
            ]
          },
          "metadata": {},
          "execution_count": 7
        }
      ]
    },
    {
      "cell_type": "markdown",
      "metadata": {
        "id": "bLnrfFvoGIeu"
      },
      "source": [
        "データのエンコーディング"
      ]
    },
    {
      "cell_type": "code",
      "metadata": {
        "id": "a421MpOisHTh"
      },
      "source": [
        "import numpy as np\n",
        "\n",
        "def vectorize_sequences(sequences, dimension=10000):\n",
        "  results = np.zeros((len(sequences), dimension))\n",
        "  for i, sequences in enumerate(sequences):\n",
        "    results[i, sequences] = 1.\n",
        "  return results\n",
        "\n",
        "x_train=vectorize_sequences(train_data)\n",
        "x_test=vectorize_sequences(test_data)"
      ],
      "execution_count": 26,
      "outputs": []
    },
    {
      "cell_type": "code",
      "metadata": {
        "id": "7gzhO27MGKdF"
      },
      "source": [
        "from keras.utils.np_utils import to_categorical\n",
        "\n",
        "one_hot_train_labels = to_categorical(train_labels)\n",
        "one_hot_test_labels = to_categorical(test_labels)"
      ],
      "execution_count": 27,
      "outputs": []
    },
    {
      "cell_type": "code",
      "metadata": {
        "id": "bgqSkwtrIBlz"
      },
      "source": [
        "#モデルの構築\n",
        "from keras import models\n",
        "from keras import layers\n",
        "\n",
        "model = models.Sequential()\n",
        "model.add(layers.Dense(64, activation='relu', input_shape=(10000,)))\n",
        "model.add(layers.Dense(64, activation='relu'))\n",
        "model.add(layers.Dense(46, activation='softmax'))"
      ],
      "execution_count": 28,
      "outputs": []
    },
    {
      "cell_type": "code",
      "metadata": {
        "id": "Ja57XKs2Juxu"
      },
      "source": [
        "model.compile(optimizer='rmsprop', loss='categorical_crossentropy', metrics=['accuracy'])"
      ],
      "execution_count": 29,
      "outputs": []
    },
    {
      "cell_type": "code",
      "metadata": {
        "id": "UksWEoxZKvUr"
      },
      "source": [
        "#検証データセットの設定\n",
        "x_val = x_train[:1000]\n",
        "partial_x_train = x_train[1000:]\n",
        "\n",
        "y_val = one_hot_train_labels[:1000]\n",
        "partial_y_train = one_hot_train_labels[1000:]"
      ],
      "execution_count": 30,
      "outputs": []
    },
    {
      "cell_type": "code",
      "metadata": {
        "colab": {
          "base_uri": "https://localhost:8080/"
        },
        "id": "esQX78HnNF4V",
        "outputId": "73ad4613-44c4-466d-dac7-aefbcaf67c8e"
      },
      "source": [
        "#モデルの訓練\n",
        "history = model.fit(partial_x_train, partial_y_train, epochs=20, batch_size=512, validation_data=(x_val, y_val))"
      ],
      "execution_count": 31,
      "outputs": [
        {
          "output_type": "stream",
          "name": "stdout",
          "text": [
            "Epoch 1/20\n",
            "16/16 [==============================] - 2s 75ms/step - loss: 2.8037 - accuracy: 0.4931 - val_loss: 1.8934 - val_accuracy: 0.6190\n",
            "Epoch 2/20\n",
            "16/16 [==============================] - 1s 61ms/step - loss: 1.5540 - accuracy: 0.6854 - val_loss: 1.3637 - val_accuracy: 0.7000\n",
            "Epoch 3/20\n",
            "16/16 [==============================] - 1s 62ms/step - loss: 1.1309 - accuracy: 0.7536 - val_loss: 1.1951 - val_accuracy: 0.7170\n",
            "Epoch 4/20\n",
            "16/16 [==============================] - 1s 49ms/step - loss: 0.8861 - accuracy: 0.8051 - val_loss: 1.0510 - val_accuracy: 0.7660\n",
            "Epoch 5/20\n",
            "16/16 [==============================] - 1s 49ms/step - loss: 0.7045 - accuracy: 0.8495 - val_loss: 0.9625 - val_accuracy: 0.7970\n",
            "Epoch 6/20\n",
            "16/16 [==============================] - 1s 54ms/step - loss: 0.5646 - accuracy: 0.8830 - val_loss: 0.9243 - val_accuracy: 0.8110\n",
            "Epoch 7/20\n",
            "16/16 [==============================] - 1s 62ms/step - loss: 0.4538 - accuracy: 0.9073 - val_loss: 0.8896 - val_accuracy: 0.8090\n",
            "Epoch 8/20\n",
            "16/16 [==============================] - 1s 63ms/step - loss: 0.3693 - accuracy: 0.9258 - val_loss: 0.8824 - val_accuracy: 0.8070\n",
            "Epoch 9/20\n",
            "16/16 [==============================] - 1s 57ms/step - loss: 0.3068 - accuracy: 0.9345 - val_loss: 0.8795 - val_accuracy: 0.8110\n",
            "Epoch 10/20\n",
            "16/16 [==============================] - 1s 49ms/step - loss: 0.2564 - accuracy: 0.9424 - val_loss: 0.8897 - val_accuracy: 0.8160\n",
            "Epoch 11/20\n",
            "16/16 [==============================] - 1s 62ms/step - loss: 0.2218 - accuracy: 0.9471 - val_loss: 0.8806 - val_accuracy: 0.8170\n",
            "Epoch 12/20\n",
            "16/16 [==============================] - 1s 50ms/step - loss: 0.1929 - accuracy: 0.9516 - val_loss: 0.9267 - val_accuracy: 0.8170\n",
            "Epoch 13/20\n",
            "16/16 [==============================] - 1s 47ms/step - loss: 0.1692 - accuracy: 0.9528 - val_loss: 0.9330 - val_accuracy: 0.8150\n",
            "Epoch 14/20\n",
            "16/16 [==============================] - 1s 48ms/step - loss: 0.1606 - accuracy: 0.9555 - val_loss: 0.9494 - val_accuracy: 0.8170\n",
            "Epoch 15/20\n",
            "16/16 [==============================] - 1s 48ms/step - loss: 0.1425 - accuracy: 0.9557 - val_loss: 0.9681 - val_accuracy: 0.8160\n",
            "Epoch 16/20\n",
            "16/16 [==============================] - 1s 60ms/step - loss: 0.1371 - accuracy: 0.9541 - val_loss: 0.9666 - val_accuracy: 0.8110\n",
            "Epoch 17/20\n",
            "16/16 [==============================] - 1s 62ms/step - loss: 0.1268 - accuracy: 0.9579 - val_loss: 0.9841 - val_accuracy: 0.8190\n",
            "Epoch 18/20\n",
            "16/16 [==============================] - 1s 64ms/step - loss: 0.1225 - accuracy: 0.9568 - val_loss: 0.9785 - val_accuracy: 0.8170\n",
            "Epoch 19/20\n",
            "16/16 [==============================] - 1s 62ms/step - loss: 0.1168 - accuracy: 0.9584 - val_loss: 1.0049 - val_accuracy: 0.8170\n",
            "Epoch 20/20\n",
            "16/16 [==============================] - 1s 51ms/step - loss: 0.1146 - accuracy: 0.9590 - val_loss: 1.1056 - val_accuracy: 0.8010\n"
          ]
        }
      ]
    },
    {
      "cell_type": "code",
      "metadata": {
        "colab": {
          "base_uri": "https://localhost:8080/",
          "height": 295
        },
        "id": "XpqxTC6XORX-",
        "outputId": "9dae2a45-5c2c-414d-d92a-48f1f1a3f82b"
      },
      "source": [
        "#訓練データと検証データでの損失値をプロット\n",
        "import matplotlib.pyplot as plt\n",
        "\n",
        "loss = history.history['loss']\n",
        "val_loss = history.history['val_loss']\n",
        "\n",
        "epochs = range(1, len(loss) + 1)\n",
        "\n",
        "plt.plot(epochs, loss, 'bo', label='Training loss')\n",
        "plt.plot(epochs, val_loss, 'b', label='Validation loss')\n",
        "plt.title('Training and validation loss')\n",
        "plt.xlabel('Epochs')\n",
        "plt.ylabel('Loss')\n",
        "plt.legend()\n",
        "plt.show()"
      ],
      "execution_count": 32,
      "outputs": [
        {
          "output_type": "display_data",
          "data": {
            "image/png": "[encoded data removed]",
            "text/plain": [
              "<Figure size 432x288 with 1 Axes>"
            ]
          },
          "metadata": {
            "needs_background": "light"
          }
        }
      ]
    },
    {
      "cell_type": "code",
      "metadata": {
        "colab": {
          "base_uri": "https://localhost:8080/",
          "height": 295
        },
        "id": "lRO5Ls_xr3ny",
        "outputId": "331ee79b-cbb7-4046-9f2c-30f71560bcab"
      },
      "source": [
        "#訓練データと検証データでの正解率をプロット\n",
        "plt.clf()\n",
        "\n",
        "acc = history.history['accuracy']\n",
        "val_acc = history.history['val_accuracy']\n",
        "\n",
        "plt.plot(epochs, acc, 'bo', label='Training acc')\n",
        "plt.plot(epochs, val_acc, 'b', label='Validation acc')\n",
        "plt.title('Training and validation accuracy')\n",
        "plt.xlabel('Epochs')\n",
        "plt.ylabel('Accuracy')\n",
        "plt.legend()\n",
        "plt.show()"
      ],
      "execution_count": 33,
      "outputs": [
        {
          "output_type": "display_data",
          "data": {
            "image/png": "[encoded data removed]",
            "text/plain": [
              "<Figure size 432x288 with 1 Axes>"
            ]
          },
          "metadata": {
            "needs_background": "light"
          }
        }
      ]
    },
    {
      "cell_type": "code",
      "metadata": {
        "colab": {
          "base_uri": "https://localhost:8080/"
        },
        "id": "ZOLnSYOMvA-S",
        "outputId": "5de1cf61-d76e-4a59-ab4f-eb916dd774f7"
      },
      "source": [
        "#モデルの訓練をやり直す\n",
        "model = models.Sequential()\n",
        "model.add(layers.Dense(64, activation='relu', input_shape=(10000,)))\n",
        "model.add(layers.Dense(64, activation='relu'))\n",
        "model.add(layers.Dense(46, activation='softmax'))\n",
        "\n",
        "model.compile(optimizer='rmsprop', loss='categorical_crossentropy', metrics=['accuracy'])\n",
        "\n",
        "model.fit(partial_x_train, partial_y_train, epochs=8, batch_size=512, validation_data=(x_val, y_val))\n",
        "\n",
        "results = model.evaluate(x_test, one_hot_test_labels)"
      ],
      "execution_count": 34,
      "outputs": [
        {
          "output_type": "stream",
          "name": "stdout",
          "text": [
            "Epoch 1/8\n",
            "16/16 [==============================] - 2s 70ms/step - loss: 2.5771 - accuracy: 0.4496 - val_loss: 1.7560 - val_accuracy: 0.6290\n",
            "Epoch 2/8\n",
            "16/16 [==============================] - 1s 60ms/step - loss: 1.4446 - accuracy: 0.6969 - val_loss: 1.3179 - val_accuracy: 0.6960\n",
            "Epoch 3/8\n",
            "16/16 [==============================] - 1s 50ms/step - loss: 1.0810 - accuracy: 0.7663 - val_loss: 1.1444 - val_accuracy: 0.7430\n",
            "Epoch 4/8\n",
            "16/16 [==============================] - 1s 55ms/step - loss: 0.8551 - accuracy: 0.8145 - val_loss: 1.0336 - val_accuracy: 0.7780\n",
            "Epoch 5/8\n",
            "16/16 [==============================] - 1s 60ms/step - loss: 0.6871 - accuracy: 0.8518 - val_loss: 0.9769 - val_accuracy: 0.7890\n",
            "Epoch 6/8\n",
            "16/16 [==============================] - 1s 64ms/step - loss: 0.5476 - accuracy: 0.8829 - val_loss: 0.9367 - val_accuracy: 0.8060\n",
            "Epoch 7/8\n",
            "16/16 [==============================] - 1s 62ms/step - loss: 0.4427 - accuracy: 0.9093 - val_loss: 0.9003 - val_accuracy: 0.8120\n",
            "Epoch 8/8\n",
            "16/16 [==============================] - 1s 57ms/step - loss: 0.3582 - accuracy: 0.9257 - val_loss: 0.9067 - val_accuracy: 0.8080\n",
            "71/71 [==============================] - 0s 4ms/step - loss: 0.9981 - accuracy: 0.7805\n"
          ]
        }
      ]
    },
    {
      "cell_type": "code",
      "metadata": {
        "colab": {
          "base_uri": "https://localhost:8080/"
        },
        "id": "z801P_M9wXEH",
        "outputId": "081adbaf-ec61-4705-a9a9-5e619efe09ac"
      },
      "source": [
        "#新しいデータの予測値を生成\n",
        "predictions = model.predict(x_test)\n",
        "predictions[0].shape"
      ],
      "execution_count": 37,
      "outputs": [
        {
          "output_type": "execute_result",
          "data": {
            "text/plain": [
              "(46,)"
            ]
          },
          "metadata": {},
          "execution_count": 37
        }
      ]
    }
  ]
}