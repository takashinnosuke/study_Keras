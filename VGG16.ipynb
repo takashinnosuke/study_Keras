{
  "nbformat": 4,
  "nbformat_minor": 0,
  "metadata": {
    "colab": {
      "name": "VGG16.ipynb",
      "provenance": [],
      "collapsed_sections": [],
      "authorship_tag": "ABX9TyPF9uKGg2/AExmgV3xfGmHe",
      "include_colab_link": true
    },
    "kernelspec": {
      "name": "python3",
      "display_name": "Python 3"
    },
    "language_info": {
      "name": "python"
    }
  },
  "cells": [
    {
      "cell_type": "markdown",
      "metadata": {
        "id": "view-in-github",
        "colab_type": "text"
      },
      "source": [
        "<a href=\"https://colab.research.google.com/github/takashinnosuke/study_Keras/blob/main/VGG16.ipynb\" target=\"_parent\"><img src=\"https://colab.research.google.com/assets/colab-badge.svg\" alt=\"Open In Colab\"/></a>"
      ]
    },
    {
      "cell_type": "code",
      "source": [
        "from google.colab import drive\n",
        "drive.mount('/content/drive')"
      ],
      "metadata": {
        "colab": {
          "base_uri": "https://localhost:8080/"
        },
        "id": "md2Wn8XsuO7o",
        "outputId": "7224c388-cbfd-479f-f471-3bad93d6120f"
      },
      "execution_count": 1,
      "outputs": [
        {
          "output_type": "stream",
          "name": "stdout",
          "text": [
            "Mounted at /content/drive\n"
          ]
        }
      ]
    },
    {
      "cell_type": "code",
      "execution_count": 2,
      "metadata": {
        "id": "5rort-JatqKR",
        "colab": {
          "base_uri": "https://localhost:8080/"
        },
        "outputId": "70d1544b-9cda-487f-ab57-7f56f7786a09"
      },
      "outputs": [
        {
          "output_type": "stream",
          "name": "stdout",
          "text": [
            "Downloading data from https://storage.googleapis.com/tensorflow/keras-applications/vgg16/vgg16_weights_tf_dim_ordering_tf_kernels_notop.h5\n",
            "58892288/58889256 [==============================] - 0s 0us/step\n",
            "58900480/58889256 [==============================] - 0s 0us/step\n"
          ]
        }
      ],
      "source": [
        "#VGG16モデルの畳み込みベースのインスタンス化\n",
        "#from keras.applications import VGG16\n",
        "from keras.applications.vgg16 import VGG16\n",
        "\n",
        "conv_base = VGG16(weights='imagenet',#このモデルを初期化するための重みのチェックポイント\n",
        "                  include_top=False,#ネットワークの出力側にある全結合層分類器を含めるかどうか．今回は，catとdogの2つだけに分類するだけで，1000個ものクラスは必要ないのでfalseにしている．\n",
        "                  input_shape=(150, 150, 3))#ネットワークに供給する画像テンソルの形状．"
      ]
    },
    {
      "cell_type": "code",
      "source": [
        "conv_base.summary()"
      ],
      "metadata": {
        "colab": {
          "base_uri": "https://localhost:8080/"
        },
        "id": "INtJKVAZvpAN",
        "outputId": "c08f5d3c-b19b-4ffa-9e1c-c2fb64f6740f"
      },
      "execution_count": 3,
      "outputs": [
        {
          "output_type": "stream",
          "name": "stdout",
          "text": [
            "Model: \"vgg16\"\n",
            "_________________________________________________________________\n",
            " Layer (type)                Output Shape              Param #   \n",
            "=================================================================\n",
            " input_1 (InputLayer)        [(None, 150, 150, 3)]     0         \n",
            "                                                                 \n",
            " block1_conv1 (Conv2D)       (None, 150, 150, 64)      1792      \n",
            "                                                                 \n",
            " block1_conv2 (Conv2D)       (None, 150, 150, 64)      36928     \n",
            "                                                                 \n",
            " block1_pool (MaxPooling2D)  (None, 75, 75, 64)        0         \n",
            "                                                                 \n",
            " block2_conv1 (Conv2D)       (None, 75, 75, 128)       73856     \n",
            "                                                                 \n",
            " block2_conv2 (Conv2D)       (None, 75, 75, 128)       147584    \n",
            "                                                                 \n",
            " block2_pool (MaxPooling2D)  (None, 37, 37, 128)       0         \n",
            "                                                                 \n",
            " block3_conv1 (Conv2D)       (None, 37, 37, 256)       295168    \n",
            "                                                                 \n",
            " block3_conv2 (Conv2D)       (None, 37, 37, 256)       590080    \n",
            "                                                                 \n",
            " block3_conv3 (Conv2D)       (None, 37, 37, 256)       590080    \n",
            "                                                                 \n",
            " block3_pool (MaxPooling2D)  (None, 18, 18, 256)       0         \n",
            "                                                                 \n",
            " block4_conv1 (Conv2D)       (None, 18, 18, 512)       1180160   \n",
            "                                                                 \n",
            " block4_conv2 (Conv2D)       (None, 18, 18, 512)       2359808   \n",
            "                                                                 \n",
            " block4_conv3 (Conv2D)       (None, 18, 18, 512)       2359808   \n",
            "                                                                 \n",
            " block4_pool (MaxPooling2D)  (None, 9, 9, 512)         0         \n",
            "                                                                 \n",
            " block5_conv1 (Conv2D)       (None, 9, 9, 512)         2359808   \n",
            "                                                                 \n",
            " block5_conv2 (Conv2D)       (None, 9, 9, 512)         2359808   \n",
            "                                                                 \n",
            " block5_conv3 (Conv2D)       (None, 9, 9, 512)         2359808   \n",
            "                                                                 \n",
            " block5_pool (MaxPooling2D)  (None, 4, 4, 512)         0         \n",
            "                                                                 \n",
            "=================================================================\n",
            "Total params: 14,714,688\n",
            "Trainable params: 14,714,688\n",
            "Non-trainable params: 0\n",
            "_________________________________________________________________\n"
          ]
        }
      ]
    },
    {
      "cell_type": "code",
      "source": [
        "#学習済みの畳み込みベースを使って特徴量を抽出\n",
        "import os\n",
        "import numpy as np\n",
        "from keras.preprocessing.image import ImageDataGenerator\n",
        "\n",
        "# 5.2.2項でsmallデータセットを格納したディレクトリへのパスであることに注意\n",
        "base_dir = '/content/drive/My Drive/cats_and_dogs_small'\n",
        "\n",
        "train_dir = os.path.join(base_dir, 'train')\n",
        "validation_dir = os.path.join(base_dir, 'validation')\n",
        "test_dir = os.path.join(base_dir, 'test')\n",
        "\n",
        "datagen = ImageDataGenerator(rescale=1./255)\n",
        "batch_size = 20\n",
        "\n",
        "def extract_features(directory, sample_count):\n",
        "  features = np.zeros(shape=(sample_count, 4, 4, 512))\n",
        "  labels = np.zeros(shape=(sample_count))\n",
        "  generator = datagen.flow_from_directory(directory,\n",
        "                                          target_size=(150, 150),\n",
        "                                          batch_size=batch_size,\n",
        "                                          class_mode='binary')\n",
        "  i = 0\n",
        "  for inputs_batch, labels_batch in generator:\n",
        "    features_batch = conv_base.predict(inputs_batch)\n",
        "    features[i * batch_size : (i + 1) * batch_size] = features_batch\n",
        "    labels[i * batch_size : (i + 1) * batch_size] = labels_batch\n",
        "    i += 1\n",
        "    if i * batch_size >= sample_count:\n",
        "      break\n",
        "  return features, labels\n",
        "\n",
        "train_features, train_labels = extract_features(train_dir, 2000)\n",
        "validation_features, validation_labels = extract_features(validation_dir, 1000)\n",
        "test_features, test_labels = extract_features(test_dir, 1000)"
      ],
      "metadata": {
        "colab": {
          "base_uri": "https://localhost:8080/"
        },
        "id": "W_adyDjCwKPQ",
        "outputId": "f38df8d1-27cc-4d3d-bd63-c1f6c4608850"
      },
      "execution_count": 8,
      "outputs": [
        {
          "output_type": "stream",
          "name": "stdout",
          "text": [
            "Found 2000 images belonging to 2 classes.\n",
            "Found 1000 images belonging to 2 classes.\n",
            "Found 1000 images belonging to 2 classes.\n"
          ]
        }
      ]
    },
    {
      "cell_type": "code",
      "source": [
        "train_features = np.reshape(train_features, (2000, 4 * 4 * 512))\n",
        "validation_features = np.reshape(validation_features, (1000, 4 * 4 * 512))\n",
        "test_features = np.reshape(test_features, (1000, 4 * 4 * 512))"
      ],
      "metadata": {
        "id": "zyQS0kSD2Vf2"
      },
      "execution_count": 9,
      "outputs": []
    },
    {
      "cell_type": "code",
      "source": [
        "#全結合分類器の定義と訓練\n",
        "from keras import models\n",
        "from keras import layers\n",
        "from tensorflow.keras import optimizers\n",
        "\n",
        "model = models.Sequential()\n",
        "model.add(layers.Dense(256, activation='relu', input_dim=4 * 4 * 512))\n",
        "model.add(layers.Dropout(0.5))\n",
        "model.add(layers.Dense(1, activation = 'sigmoid'))\n",
        "\n",
        "model.compile(optimizer=optimizers.RMSprop(learning_rate = 2e-5),\n",
        "              loss = 'binary_crossentropy',\n",
        "              metrics=['acc'])\n",
        "\n",
        "history = model.fit(train_features, train_labels,\n",
        "                    epochs = 30,\n",
        "                    batch_size = 20,\n",
        "                    validation_data = (validation_features, validation_labels))"
      ],
      "metadata": {
        "colab": {
          "base_uri": "https://localhost:8080/"
        },
        "id": "bPTFf5w325gH",
        "outputId": "ca940f3b-e4bd-4afc-b285-d31514af323c"
      },
      "execution_count": 18,
      "outputs": [
        {
          "output_type": "stream",
          "name": "stdout",
          "text": [
            "Epoch 1/30\n",
            "100/100 [==============================] - 3s 26ms/step - loss: 0.6360 - acc: 0.6490 - val_loss: 0.4382 - val_acc: 0.8430\n",
            "Epoch 2/30\n",
            "100/100 [==============================] - 2s 22ms/step - loss: 0.4276 - acc: 0.8100 - val_loss: 0.3582 - val_acc: 0.8680\n",
            "Epoch 3/30\n",
            "100/100 [==============================] - 2s 22ms/step - loss: 0.3487 - acc: 0.8490 - val_loss: 0.3140 - val_acc: 0.8870\n",
            "Epoch 4/30\n",
            "100/100 [==============================] - 2s 22ms/step - loss: 0.3205 - acc: 0.8715 - val_loss: 0.2932 - val_acc: 0.8940\n",
            "Epoch 5/30\n",
            "100/100 [==============================] - 2s 22ms/step - loss: 0.2807 - acc: 0.8855 - val_loss: 0.2784 - val_acc: 0.8940\n",
            "Epoch 6/30\n",
            "100/100 [==============================] - 2s 22ms/step - loss: 0.2598 - acc: 0.8995 - val_loss: 0.2677 - val_acc: 0.8940\n",
            "Epoch 7/30\n",
            "100/100 [==============================] - 2s 22ms/step - loss: 0.2498 - acc: 0.9000 - val_loss: 0.2646 - val_acc: 0.8920\n",
            "Epoch 8/30\n",
            "100/100 [==============================] - 2s 21ms/step - loss: 0.2266 - acc: 0.9115 - val_loss: 0.2541 - val_acc: 0.8980\n",
            "Epoch 9/30\n",
            "100/100 [==============================] - 2s 22ms/step - loss: 0.2185 - acc: 0.9130 - val_loss: 0.2606 - val_acc: 0.8950\n",
            "Epoch 10/30\n",
            "100/100 [==============================] - 2s 21ms/step - loss: 0.2048 - acc: 0.9200 - val_loss: 0.2448 - val_acc: 0.9010\n",
            "Epoch 11/30\n",
            "100/100 [==============================] - 2s 22ms/step - loss: 0.1947 - acc: 0.9305 - val_loss: 0.2437 - val_acc: 0.9030\n",
            "Epoch 12/30\n",
            "100/100 [==============================] - 2s 22ms/step - loss: 0.1922 - acc: 0.9305 - val_loss: 0.2401 - val_acc: 0.8980\n",
            "Epoch 13/30\n",
            "100/100 [==============================] - 2s 22ms/step - loss: 0.1824 - acc: 0.9335 - val_loss: 0.2391 - val_acc: 0.9050\n",
            "Epoch 14/30\n",
            "100/100 [==============================] - 2s 22ms/step - loss: 0.1753 - acc: 0.9345 - val_loss: 0.2381 - val_acc: 0.9050\n",
            "Epoch 15/30\n",
            "100/100 [==============================] - 2s 22ms/step - loss: 0.1640 - acc: 0.9410 - val_loss: 0.2425 - val_acc: 0.9020\n",
            "Epoch 16/30\n",
            "100/100 [==============================] - 2s 22ms/step - loss: 0.1508 - acc: 0.9470 - val_loss: 0.2491 - val_acc: 0.8960\n",
            "Epoch 17/30\n",
            "100/100 [==============================] - 2s 22ms/step - loss: 0.1473 - acc: 0.9495 - val_loss: 0.2366 - val_acc: 0.9040\n",
            "Epoch 18/30\n",
            "100/100 [==============================] - 2s 22ms/step - loss: 0.1380 - acc: 0.9545 - val_loss: 0.2334 - val_acc: 0.9020\n",
            "Epoch 19/30\n",
            "100/100 [==============================] - 2s 22ms/step - loss: 0.1370 - acc: 0.9530 - val_loss: 0.2331 - val_acc: 0.9040\n",
            "Epoch 20/30\n",
            "100/100 [==============================] - 2s 22ms/step - loss: 0.1292 - acc: 0.9580 - val_loss: 0.2474 - val_acc: 0.9000\n",
            "Epoch 21/30\n",
            "100/100 [==============================] - 2s 22ms/step - loss: 0.1281 - acc: 0.9570 - val_loss: 0.2400 - val_acc: 0.9020\n",
            "Epoch 22/30\n",
            "100/100 [==============================] - 2s 21ms/step - loss: 0.1205 - acc: 0.9580 - val_loss: 0.2343 - val_acc: 0.9000\n",
            "Epoch 23/30\n",
            "100/100 [==============================] - 2s 22ms/step - loss: 0.1166 - acc: 0.9620 - val_loss: 0.2336 - val_acc: 0.9040\n",
            "Epoch 24/30\n",
            "100/100 [==============================] - 2s 21ms/step - loss: 0.1105 - acc: 0.9610 - val_loss: 0.2407 - val_acc: 0.9000\n",
            "Epoch 25/30\n",
            "100/100 [==============================] - 2s 22ms/step - loss: 0.1037 - acc: 0.9670 - val_loss: 0.2416 - val_acc: 0.8980\n",
            "Epoch 26/30\n",
            "100/100 [==============================] - 2s 22ms/step - loss: 0.1003 - acc: 0.9665 - val_loss: 0.2447 - val_acc: 0.9000\n",
            "Epoch 27/30\n",
            "100/100 [==============================] - 2s 22ms/step - loss: 0.0945 - acc: 0.9730 - val_loss: 0.2353 - val_acc: 0.9020\n",
            "Epoch 28/30\n",
            "100/100 [==============================] - 2s 22ms/step - loss: 0.0952 - acc: 0.9675 - val_loss: 0.2354 - val_acc: 0.9030\n",
            "Epoch 29/30\n",
            "100/100 [==============================] - 2s 22ms/step - loss: 0.0864 - acc: 0.9725 - val_loss: 0.2433 - val_acc: 0.9010\n",
            "Epoch 30/30\n",
            "100/100 [==============================] - 2s 22ms/step - loss: 0.0855 - acc: 0.9735 - val_loss: 0.2388 - val_acc: 0.9020\n"
          ]
        }
      ]
    },
    {
      "cell_type": "code",
      "source": [
        "#結果をプロット\n",
        "import matplotlib.pyplot as plt\n",
        "\n",
        "acc = history.history['acc']\n",
        "val_acc = history.history['val_acc']\n",
        "loss = history.history['loss']\n",
        "val_loss = history.history['val_loss']\n",
        "\n",
        "epochs = range(len(acc))\n",
        "\n",
        "#正解率をプロット\n",
        "plt.plot(epochs, acc, 'bo', label='Training acc')\n",
        "plt.plot(epochs, val_acc, 'b', label='Validtion acc')\n",
        "plt.title('Training and validation accuracy')\n",
        "plt.legend()\n",
        "\n",
        "plt.figure()\n",
        "\n",
        "#損失値をプロット\n",
        "plt.plot(epochs, loss, 'bo', label='Training loss')\n",
        "plt.plot(epochs, val_loss, 'b', label='Validtion loss')\n",
        "plt.title('Training and validation loss')\n",
        "plt.legend()\n",
        "\n",
        "plt.show()"
      ],
      "metadata": {
        "colab": {
          "base_uri": "https://localhost:8080/",
          "height": 545
        },
        "id": "BjSAM9Hf5ABG",
        "outputId": "cf0d77e0-8d66-4a2a-aa04-b0d2fd90799f"
      },
      "execution_count": 19,
      "outputs": [
        {
          "output_type": "display_data",
          "data": {
            "image/png": "[encoded data removed]",
            "text/plain": [
              "<Figure size 432x288 with 1 Axes>"
            ]
          },
          "metadata": {
            "needs_background": "light"
          }
        },
        {
          "output_type": "display_data",
          "data": {
            "image/png": "[encoded data removed]",
            "text/plain": [
              "<Figure size 432x288 with 1 Axes>"
            ]
          },
          "metadata": {
            "needs_background": "light"
          }
        }
      ]
    }
  ]
}